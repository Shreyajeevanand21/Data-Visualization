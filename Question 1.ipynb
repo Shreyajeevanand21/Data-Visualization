{
 "cells": [
  {
   "cell_type": "code",
   "execution_count": 9,
   "id": "4c3d58a9",
   "metadata": {},
   "outputs": [
    {
     "name": "stdout",
     "output_type": "stream",
     "text": [
      "Column names in the dataset:\n",
      "Index(['Date', ' Close/Last', ' Volume', ' Open', ' High', ' Low'], dtype='object')\n"
     ]
    }
   ],
   "source": [
    "# Importing Pandas library\n",
    "import pandas as pd\n",
    "\n",
    "# Load the Apple stock data into a Pandas DataFrame\n",
    "data = pd.read_csv('AAPL_stock_data.csv')\n",
    "\n",
    "# Print the column names to verify the available columns\n",
    "print(\"Column names in the dataset:\")\n",
    "print(data.columns)\n",
    "\n"
   ]
  },
  {
   "cell_type": "code",
   "execution_count": 10,
   "id": "989e01b9",
   "metadata": {},
   "outputs": [
    {
     "name": "stdout",
     "output_type": "stream",
     "text": [
      "\n",
      "Mean: 114.76952227958698\n",
      "Median: 101.09\n",
      "Mode: 97.34\n",
      "Standard Deviation: 60.65035824572462\n"
     ]
    }
   ],
   "source": [
    "#Close/Last column for the stock prices\n",
    "prices = data[' Close/Last']  \n",
    "\n",
    "# Convert the prices to numeric by removing the dollar sign and converting to float\n",
    "prices = prices.str.replace('$', '', regex=False).astype(float)\n",
    "\n",
    "# Drop NaN values \n",
    "prices_cleaned = prices.dropna()\n",
    "\n",
    "# Calculating Mean\n",
    "mean_value = np.mean(prices_cleaned)\n",
    "print(f\"\\nMean: {mean_value}\")\n",
    "\n",
    "# Calculating Median\n",
    "median_value = np.median(prices_cleaned)\n",
    "print(f\"Median: {median_value}\")\n",
    "\n",
    "# Calculating Mode \n",
    "mode_value = prices_cleaned.mode()[0]  # mode() returns a Series, we take the first mode\n",
    "print(f\"Mode: {mode_value}\")\n",
    "\n",
    "# Calculating Standard Deviation\n",
    "std_value = np.std(prices_cleaned)\n",
    "print(f\"Standard Deviation: {std_value}\")"
   ]
  },
  {
   "cell_type": "code",
   "execution_count": 11,
   "id": "11637beb",
   "metadata": {},
   "outputs": [
    {
     "name": "stdout",
     "output_type": "stream",
     "text": [
      "Shape of the data: (2518,)\n",
      "First few rows of data: [('02/28/2020', ' $273.36', 106721200, ' $257.26', ' $278.41', ' $256.37')\n",
      " ('02/27/2020', ' $273.52',  80151380, ' $281.1', ' $286', ' $272.96')\n",
      " ('02/26/2020', ' $292.65',  49678430, ' $286.53', ' $297.88', ' $286.5')\n",
      " ('02/25/2020', ' $288.08',  57668360, ' $300.95', ' $302.53', ' $286.13')\n",
      " ('02/24/2020', ' $298.18',  55548830, ' $297.26', ' $304.18', ' $289.23')]\n"
     ]
    }
   ],
   "source": [
    "# Importing Numpy library\n",
    "import numpy as np\n",
    "\n",
    "# Load the dataset\n",
    "data = np.genfromtxt('AAPL_stock_data.csv', delimiter=',', skip_header=1, dtype=None, encoding='utf-8')\n",
    "\n",
    "# Print the shape and first few rows of the data\n",
    "print(\"Shape of the data:\", data.shape)\n",
    "print(\"First few rows of data:\", data[:5])\n"
   ]
  },
  {
   "cell_type": "code",
   "execution_count": 12,
   "id": "75d02036",
   "metadata": {},
   "outputs": [
    {
     "name": "stdout",
     "output_type": "stream",
     "text": [
      "Mean Close Price: 114.76952227958698\n",
      "Median Close Price: 101.09\n",
      "Mode Close Price: 97.34\n",
      "Standard Deviation of Close Price: 60.650358245724604\n"
     ]
    }
   ],
   "source": [
    "# Select the 'Close/Last' prices, stripping whitespace and dollar sign\n",
    "close_prices = np.array([float(row[1].strip().replace('$', '')) for row in data])\n",
    "\n",
    "# Calculate statistics\n",
    "mean_price = np.mean(close_prices)\n",
    "median_price = np.median(close_prices)\n",
    "\n",
    "# Calculate mode without indexing\n",
    "mode_result = stats.mode(close_prices, keepdims=False)\n",
    "mode_price = mode_result.mode \n",
    "std_dev_price = np.std(close_prices)\n",
    "\n",
    "# Display the results\n",
    "print(f'Mean Close Price: {mean_price}')\n",
    "print(f'Median Close Price: {median_price}')\n",
    "print(f'Mode Close Price: {mode_price}')\n",
    "print(f'Standard Deviation of Close Price: {std_dev_price}')\n",
    "\n"
   ]
  }
 ],
 "metadata": {
  "kernelspec": {
   "display_name": "Python 3 (ipykernel)",
   "language": "python",
   "name": "python3"
  },
  "language_info": {
   "codemirror_mode": {
    "name": "ipython",
    "version": 3
   },
   "file_extension": ".py",
   "mimetype": "text/x-python",
   "name": "python",
   "nbconvert_exporter": "python",
   "pygments_lexer": "ipython3",
   "version": "3.11.4"
  }
 },
 "nbformat": 4,
 "nbformat_minor": 5
}
